{
 "cells": [
  {
   "cell_type": "code",
   "execution_count": 1,
   "metadata": {},
   "outputs": [],
   "source": [
    "# Python UA"
   ]
  },
  {
   "cell_type": "code",
   "execution_count": 43,
   "metadata": {},
   "outputs": [],
   "source": [
    "import pandas as pd\n",
    "import numpy as np\n",
    "import matplotlib.pyplot as plt"
   ]
  },
  {
   "cell_type": "code",
   "execution_count": 3,
   "metadata": {},
   "outputs": [],
   "source": [
    "donors = pd.read_csv(\"donors2008.csv\")\n",
    "\n",
    "donor_df = pd.DataFrame(donors)"
   ]
  },
  {
   "cell_type": "code",
   "execution_count": 4,
   "metadata": {},
   "outputs": [
    {
     "data": {
      "text/html": [
       "<div>\n",
       "<style scoped>\n",
       "    .dataframe tbody tr th:only-of-type {\n",
       "        vertical-align: middle;\n",
       "    }\n",
       "\n",
       "    .dataframe tbody tr th {\n",
       "        vertical-align: top;\n",
       "    }\n",
       "\n",
       "    .dataframe thead th {\n",
       "        text-align: right;\n",
       "    }\n",
       "</style>\n",
       "<table border=\"1\" class=\"dataframe\">\n",
       "  <thead>\n",
       "    <tr style=\"text-align: right;\">\n",
       "      <th></th>\n",
       "      <th>LastName</th>\n",
       "      <th>FirstName</th>\n",
       "      <th>Employer</th>\n",
       "      <th>City</th>\n",
       "      <th>State</th>\n",
       "      <th>Zip</th>\n",
       "      <th>Amount</th>\n",
       "      <th>FIELD8</th>\n",
       "    </tr>\n",
       "  </thead>\n",
       "  <tbody>\n",
       "    <tr>\n",
       "      <th>0</th>\n",
       "      <td>Aaron</td>\n",
       "      <td>Eugene</td>\n",
       "      <td>State Department</td>\n",
       "      <td>Dulles</td>\n",
       "      <td>VA</td>\n",
       "      <td>20189</td>\n",
       "      <td>500.0</td>\n",
       "      <td>NaN</td>\n",
       "    </tr>\n",
       "    <tr>\n",
       "      <th>1</th>\n",
       "      <td>Abadi</td>\n",
       "      <td>Barbara</td>\n",
       "      <td>Abadi &amp; Co.</td>\n",
       "      <td>New York</td>\n",
       "      <td>NY</td>\n",
       "      <td>10021</td>\n",
       "      <td>200.0</td>\n",
       "      <td>NaN</td>\n",
       "    </tr>\n",
       "    <tr>\n",
       "      <th>2</th>\n",
       "      <td>Adamany</td>\n",
       "      <td>Anthony</td>\n",
       "      <td>Retired</td>\n",
       "      <td>Rockford</td>\n",
       "      <td>IL</td>\n",
       "      <td>61103</td>\n",
       "      <td>500.0</td>\n",
       "      <td>NaN</td>\n",
       "    </tr>\n",
       "    <tr>\n",
       "      <th>3</th>\n",
       "      <td>Adams</td>\n",
       "      <td>Lorraine</td>\n",
       "      <td>Self</td>\n",
       "      <td>New York</td>\n",
       "      <td>NY</td>\n",
       "      <td>10026</td>\n",
       "      <td>200.0</td>\n",
       "      <td>NaN</td>\n",
       "    </tr>\n",
       "    <tr>\n",
       "      <th>4</th>\n",
       "      <td>Adams</td>\n",
       "      <td>Marion</td>\n",
       "      <td>None</td>\n",
       "      <td>Exeter</td>\n",
       "      <td>NH</td>\n",
       "      <td>03833</td>\n",
       "      <td>100.0</td>\n",
       "      <td>NaN</td>\n",
       "    </tr>\n",
       "  </tbody>\n",
       "</table>\n",
       "</div>"
      ],
      "text/plain": [
       "  LastName FirstName          Employer      City State    Zip  Amount  FIELD8\n",
       "0    Aaron    Eugene  State Department    Dulles    VA  20189   500.0     NaN\n",
       "1    Abadi   Barbara       Abadi & Co.  New York    NY  10021   200.0     NaN\n",
       "2  Adamany   Anthony           Retired  Rockford    IL  61103   500.0     NaN\n",
       "3    Adams  Lorraine              Self  New York    NY  10026   200.0     NaN\n",
       "4    Adams    Marion              None    Exeter    NH  03833   100.0     NaN"
      ]
     },
     "execution_count": 4,
     "metadata": {},
     "output_type": "execute_result"
    }
   ],
   "source": [
    "donor_df.head(5)"
   ]
  },
  {
   "cell_type": "code",
   "execution_count": 5,
   "metadata": {},
   "outputs": [],
   "source": [
    "state_donors = donor_df.groupby(\"State\")[\"Amount\"].mean()"
   ]
  },
  {
   "cell_type": "code",
   "execution_count": 6,
   "metadata": {},
   "outputs": [
    {
     "data": {
      "text/plain": [
       "State\n",
       "MS    1208.333333\n",
       "IL    1114.519231\n",
       "NY     910.829146\n",
       "PA     896.755556\n",
       "CO     851.250000\n",
       "GA     842.307692\n",
       "CT     825.714286\n",
       "MD     819.823529\n",
       "MA     750.714286\n",
       "KY     735.000000\n",
       "FL     709.358974\n",
       "VA     701.093465\n",
       "RI     700.000000\n",
       "MN     697.000000\n",
       "CA     685.234973\n",
       "DC     647.115385\n",
       "IA     600.000000\n",
       "OH     501.562500\n",
       "TX     485.193182\n",
       "MO     463.888889\n",
       "NC     440.625000\n",
       "WA     399.537037\n",
       "NV     393.333333\n",
       "NH     368.750000\n",
       "AR     350.000000\n",
       "VT     350.000000\n",
       "ID     341.666667\n",
       "OR     321.052632\n",
       "NM     298.913043\n",
       "SC     287.500000\n",
       "KS     283.333333\n",
       "NJ     276.111111\n",
       "TN     257.142857\n",
       "QC     250.000000\n",
       "MI     241.666667\n",
       "VI     225.000000\n",
       "IN     225.000000\n",
       "AL     212.500000\n",
       "ME     211.111111\n",
       "AZ     206.000000\n",
       "OK     200.000000\n",
       "UT     200.000000\n",
       "MT     200.000000\n",
       "AP     200.000000\n",
       "HI     195.454545\n",
       "DE     190.000000\n",
       "WI     185.416667\n",
       "WV     183.333333\n",
       "NE     183.333333\n",
       "AK     175.000000\n",
       "LA     158.333333\n",
       "WY     125.000000\n",
       "AE     100.000000\n",
       "Name: Amount, dtype: float64"
      ]
     },
     "execution_count": 6,
     "metadata": {},
     "output_type": "execute_result"
    }
   ],
   "source": [
    "state_donors.sort_values(ascending=False)"
   ]
  },
  {
   "cell_type": "code",
   "execution_count": 7,
   "metadata": {},
   "outputs": [],
   "source": [
    "rain = pd.read_csv(\"avg_rain_state.csv\")\n",
    "rain_df = pd.DataFrame(rain)"
   ]
  },
  {
   "cell_type": "code",
   "execution_count": 8,
   "metadata": {},
   "outputs": [
    {
     "data": {
      "text/html": [
       "<div>\n",
       "<style scoped>\n",
       "    .dataframe tbody tr th:only-of-type {\n",
       "        vertical-align: middle;\n",
       "    }\n",
       "\n",
       "    .dataframe tbody tr th {\n",
       "        vertical-align: top;\n",
       "    }\n",
       "\n",
       "    .dataframe thead th {\n",
       "        text-align: right;\n",
       "    }\n",
       "</style>\n",
       "<table border=\"1\" class=\"dataframe\">\n",
       "  <thead>\n",
       "    <tr style=\"text-align: right;\">\n",
       "      <th></th>\n",
       "      <th>State</th>\n",
       "      <th>Inches</th>\n",
       "      <th>Milli­metres</th>\n",
       "      <th>Rank</th>\n",
       "    </tr>\n",
       "  </thead>\n",
       "  <tbody>\n",
       "    <tr>\n",
       "      <th>0</th>\n",
       "      <td>Alabama</td>\n",
       "      <td>58.3</td>\n",
       "      <td>1480</td>\n",
       "      <td>4</td>\n",
       "    </tr>\n",
       "    <tr>\n",
       "      <th>1</th>\n",
       "      <td>Alaska</td>\n",
       "      <td>22.5</td>\n",
       "      <td>572</td>\n",
       "      <td>39</td>\n",
       "    </tr>\n",
       "    <tr>\n",
       "      <th>2</th>\n",
       "      <td>Arizona</td>\n",
       "      <td>13.6</td>\n",
       "      <td>345</td>\n",
       "      <td>47</td>\n",
       "    </tr>\n",
       "    <tr>\n",
       "      <th>3</th>\n",
       "      <td>Arkansas</td>\n",
       "      <td>50.6</td>\n",
       "      <td>1284</td>\n",
       "      <td>8</td>\n",
       "    </tr>\n",
       "    <tr>\n",
       "      <th>4</th>\n",
       "      <td>California</td>\n",
       "      <td>22.2</td>\n",
       "      <td>563</td>\n",
       "      <td>40</td>\n",
       "    </tr>\n",
       "  </tbody>\n",
       "</table>\n",
       "</div>"
      ],
      "text/plain": [
       "        State  Inches  Milli­metres  Rank\n",
       "0     Alabama    58.3          1480     4\n",
       "1      Alaska    22.5           572    39\n",
       "2     Arizona    13.6           345    47\n",
       "3    Arkansas    50.6          1284     8\n",
       "4  California    22.2           563    40"
      ]
     },
     "execution_count": 8,
     "metadata": {},
     "output_type": "execute_result"
    }
   ],
   "source": [
    "rain_df.head(5)"
   ]
  },
  {
   "cell_type": "code",
   "execution_count": 37,
   "metadata": {},
   "outputs": [
    {
     "data": {
      "text/html": [
       "<div>\n",
       "<style scoped>\n",
       "    .dataframe tbody tr th:only-of-type {\n",
       "        vertical-align: middle;\n",
       "    }\n",
       "\n",
       "    .dataframe tbody tr th {\n",
       "        vertical-align: top;\n",
       "    }\n",
       "\n",
       "    .dataframe thead th {\n",
       "        text-align: right;\n",
       "    }\n",
       "</style>\n",
       "<table border=\"1\" class=\"dataframe\">\n",
       "  <thead>\n",
       "    <tr style=\"text-align: right;\">\n",
       "      <th></th>\n",
       "      <th>State</th>\n",
       "      <th>Inches</th>\n",
       "      <th>Milli­metres</th>\n",
       "      <th>Rank</th>\n",
       "    </tr>\n",
       "  </thead>\n",
       "  <tbody>\n",
       "    <tr>\n",
       "      <th>8</th>\n",
       "      <td>Florida</td>\n",
       "      <td>54.5</td>\n",
       "      <td>1385</td>\n",
       "      <td>5</td>\n",
       "    </tr>\n",
       "    <tr>\n",
       "      <th>0</th>\n",
       "      <td>Alabama</td>\n",
       "      <td>58.3</td>\n",
       "      <td>1480</td>\n",
       "      <td>4</td>\n",
       "    </tr>\n",
       "    <tr>\n",
       "      <th>23</th>\n",
       "      <td>Mississippi</td>\n",
       "      <td>59.0</td>\n",
       "      <td>1499</td>\n",
       "      <td>3</td>\n",
       "    </tr>\n",
       "    <tr>\n",
       "      <th>17</th>\n",
       "      <td>Louisiana</td>\n",
       "      <td>60.1</td>\n",
       "      <td>1528</td>\n",
       "      <td>2</td>\n",
       "    </tr>\n",
       "    <tr>\n",
       "      <th>10</th>\n",
       "      <td>Hawaii</td>\n",
       "      <td>63.7</td>\n",
       "      <td>1618</td>\n",
       "      <td>1</td>\n",
       "    </tr>\n",
       "  </tbody>\n",
       "</table>\n",
       "</div>"
      ],
      "text/plain": [
       "          State  Inches  Milli­metres  Rank\n",
       "8       Florida    54.5          1385     5\n",
       "0       Alabama    58.3          1480     4\n",
       "23  Mississippi    59.0          1499     3\n",
       "17    Louisiana    60.1          1528     2\n",
       "10       Hawaii    63.7          1618     1"
      ]
     },
     "execution_count": 37,
     "metadata": {},
     "output_type": "execute_result"
    }
   ],
   "source": [
    "rain_df.sort_values([\"Rank\"], ascending=False).tail()"
   ]
  },
  {
   "cell_type": "code",
   "execution_count": 9,
   "metadata": {},
   "outputs": [
    {
     "data": {
      "text/plain": [
       "37.078"
      ]
     },
     "execution_count": 9,
     "metadata": {},
     "output_type": "execute_result"
    }
   ],
   "source": [
    "rain_df[\"Inches\"].mean()"
   ]
  },
  {
   "cell_type": "code",
   "execution_count": 10,
   "metadata": {},
   "outputs": [
    {
     "data": {
      "text/plain": [
       "41.75"
      ]
     },
     "execution_count": 10,
     "metadata": {},
     "output_type": "execute_result"
    }
   ],
   "source": [
    "rain_df[\"Inches\"].median()"
   ]
  },
  {
   "cell_type": "code",
   "execution_count": 11,
   "metadata": {},
   "outputs": [
    {
     "data": {
      "text/plain": [
       "0    28.9\n",
       "1    42.2\n",
       "2    50.3\n",
       "dtype: float64"
      ]
     },
     "execution_count": 11,
     "metadata": {},
     "output_type": "execute_result"
    }
   ],
   "source": [
    "rain_df[\"Inches\"].mode()"
   ]
  },
  {
   "cell_type": "code",
   "execution_count": 44,
   "metadata": {},
   "outputs": [
    {
     "ename": "SyntaxError",
     "evalue": "invalid syntax (<ipython-input-44-8b369600f0ae>, line 10)",
     "output_type": "error",
     "traceback": [
      "\u001b[0;36m  File \u001b[0;32m\"<ipython-input-44-8b369600f0ae>\"\u001b[0;36m, line \u001b[0;32m10\u001b[0m\n\u001b[0;31m    plt.show()\u001b[0m\n\u001b[0m      ^\u001b[0m\n\u001b[0;31mSyntaxError\u001b[0m\u001b[0;31m:\u001b[0m invalid syntax\n"
     ]
    }
   ],
   "source": [
    "# graphing rain\n",
    "\n",
    "# tick_locations = [value for value in len(rain_df[\"State\"])]\n",
    "# plt.figure(figsize=(20,3))\n",
    "# plt.bar(rain_df[\"State\"], rain_df[\"Inches\"])\n",
    "# plt.xticks(tick_locations,len(rain_df[\"State\"], rotation=\"vertical\")\n",
    "# # plt.title(\"Rain in Inches by State\")\n",
    "# # plt.xlabel(\"State\")\n",
    "# # plt.ylabel(\"Rain (inches)\")\n",
    "# plt.show()\n",
    "        "
   ]
  },
  {
   "cell_type": "code",
   "execution_count": 12,
   "metadata": {},
   "outputs": [
    {
     "data": {
      "text/html": [
       "<div>\n",
       "<style scoped>\n",
       "    .dataframe tbody tr th:only-of-type {\n",
       "        vertical-align: middle;\n",
       "    }\n",
       "\n",
       "    .dataframe tbody tr th {\n",
       "        vertical-align: top;\n",
       "    }\n",
       "\n",
       "    .dataframe thead th {\n",
       "        text-align: right;\n",
       "    }\n",
       "</style>\n",
       "<table border=\"1\" class=\"dataframe\">\n",
       "  <thead>\n",
       "    <tr style=\"text-align: right;\">\n",
       "      <th></th>\n",
       "      <th>name</th>\n",
       "      <th>mfr</th>\n",
       "      <th>type</th>\n",
       "      <th>calories</th>\n",
       "      <th>protein</th>\n",
       "      <th>fat</th>\n",
       "      <th>sodium</th>\n",
       "      <th>fiber</th>\n",
       "      <th>carbo</th>\n",
       "      <th>sugars</th>\n",
       "      <th>potass</th>\n",
       "      <th>vitamins</th>\n",
       "      <th>shelf</th>\n",
       "      <th>weight</th>\n",
       "      <th>cups</th>\n",
       "      <th>rating</th>\n",
       "    </tr>\n",
       "  </thead>\n",
       "  <tbody>\n",
       "    <tr>\n",
       "      <th>0</th>\n",
       "      <td>100% Bran</td>\n",
       "      <td>N</td>\n",
       "      <td>C</td>\n",
       "      <td>70</td>\n",
       "      <td>4</td>\n",
       "      <td>1</td>\n",
       "      <td>130</td>\n",
       "      <td>10.0</td>\n",
       "      <td>5.0</td>\n",
       "      <td>6</td>\n",
       "      <td>280</td>\n",
       "      <td>25</td>\n",
       "      <td>3</td>\n",
       "      <td>1.0</td>\n",
       "      <td>0.33</td>\n",
       "      <td>68.402973</td>\n",
       "    </tr>\n",
       "    <tr>\n",
       "      <th>1</th>\n",
       "      <td>100% Natural Bran</td>\n",
       "      <td>Q</td>\n",
       "      <td>C</td>\n",
       "      <td>120</td>\n",
       "      <td>3</td>\n",
       "      <td>5</td>\n",
       "      <td>15</td>\n",
       "      <td>2.0</td>\n",
       "      <td>8.0</td>\n",
       "      <td>8</td>\n",
       "      <td>135</td>\n",
       "      <td>0</td>\n",
       "      <td>3</td>\n",
       "      <td>1.0</td>\n",
       "      <td>1.00</td>\n",
       "      <td>33.983679</td>\n",
       "    </tr>\n",
       "    <tr>\n",
       "      <th>2</th>\n",
       "      <td>All-Bran</td>\n",
       "      <td>K</td>\n",
       "      <td>C</td>\n",
       "      <td>70</td>\n",
       "      <td>4</td>\n",
       "      <td>1</td>\n",
       "      <td>260</td>\n",
       "      <td>9.0</td>\n",
       "      <td>7.0</td>\n",
       "      <td>5</td>\n",
       "      <td>320</td>\n",
       "      <td>25</td>\n",
       "      <td>3</td>\n",
       "      <td>1.0</td>\n",
       "      <td>0.33</td>\n",
       "      <td>59.425505</td>\n",
       "    </tr>\n",
       "    <tr>\n",
       "      <th>3</th>\n",
       "      <td>All-Bran with Extra Fiber</td>\n",
       "      <td>K</td>\n",
       "      <td>C</td>\n",
       "      <td>50</td>\n",
       "      <td>4</td>\n",
       "      <td>0</td>\n",
       "      <td>140</td>\n",
       "      <td>14.0</td>\n",
       "      <td>8.0</td>\n",
       "      <td>0</td>\n",
       "      <td>330</td>\n",
       "      <td>25</td>\n",
       "      <td>3</td>\n",
       "      <td>1.0</td>\n",
       "      <td>0.50</td>\n",
       "      <td>93.704912</td>\n",
       "    </tr>\n",
       "    <tr>\n",
       "      <th>4</th>\n",
       "      <td>Almond Delight</td>\n",
       "      <td>R</td>\n",
       "      <td>C</td>\n",
       "      <td>110</td>\n",
       "      <td>2</td>\n",
       "      <td>2</td>\n",
       "      <td>200</td>\n",
       "      <td>1.0</td>\n",
       "      <td>14.0</td>\n",
       "      <td>8</td>\n",
       "      <td>-1</td>\n",
       "      <td>25</td>\n",
       "      <td>3</td>\n",
       "      <td>1.0</td>\n",
       "      <td>0.75</td>\n",
       "      <td>34.384843</td>\n",
       "    </tr>\n",
       "  </tbody>\n",
       "</table>\n",
       "</div>"
      ],
      "text/plain": [
       "                        name mfr type  calories  protein  fat  sodium  fiber  \\\n",
       "0                  100% Bran   N    C        70        4    1     130   10.0   \n",
       "1          100% Natural Bran   Q    C       120        3    5      15    2.0   \n",
       "2                   All-Bran   K    C        70        4    1     260    9.0   \n",
       "3  All-Bran with Extra Fiber   K    C        50        4    0     140   14.0   \n",
       "4             Almond Delight   R    C       110        2    2     200    1.0   \n",
       "\n",
       "   carbo  sugars  potass  vitamins  shelf  weight  cups     rating  \n",
       "0    5.0       6     280        25      3     1.0  0.33  68.402973  \n",
       "1    8.0       8     135         0      3     1.0  1.00  33.983679  \n",
       "2    7.0       5     320        25      3     1.0  0.33  59.425505  \n",
       "3    8.0       0     330        25      3     1.0  0.50  93.704912  \n",
       "4   14.0       8      -1        25      3     1.0  0.75  34.384843  "
      ]
     },
     "execution_count": 12,
     "metadata": {},
     "output_type": "execute_result"
    }
   ],
   "source": [
    "cereal = pd.read_csv(\"cereal.csv\")\n",
    "\n",
    "cereal_df = pd.DataFrame(cereal)\n",
    "\n",
    "cereal_df.head()\n"
   ]
  },
  {
   "cell_type": "code",
   "execution_count": 13,
   "metadata": {},
   "outputs": [
    {
     "data": {
      "text/plain": [
       "name         object\n",
       "mfr          object\n",
       "type         object\n",
       "calories      int64\n",
       "protein       int64\n",
       "fat           int64\n",
       "sodium        int64\n",
       "fiber       float64\n",
       "carbo       float64\n",
       "sugars        int64\n",
       "potass        int64\n",
       "vitamins      int64\n",
       "shelf         int64\n",
       "weight      float64\n",
       "cups        float64\n",
       "rating      float64\n",
       "dtype: object"
      ]
     },
     "execution_count": 13,
     "metadata": {},
     "output_type": "execute_result"
    }
   ],
   "source": [
    "cereal_df.dtypes"
   ]
  },
  {
   "cell_type": "code",
   "execution_count": 14,
   "metadata": {},
   "outputs": [],
   "source": [
    "cereal_df = cereal_df.set_index(\"name\")\n",
    "\n"
   ]
  },
  {
   "cell_type": "code",
   "execution_count": 18,
   "metadata": {},
   "outputs": [],
   "source": [
    "#"
   ]
  },
  {
   "cell_type": "code",
   "execution_count": 16,
   "metadata": {},
   "outputs": [
    {
     "name": "stdout",
     "output_type": "stream",
     "text": [
      "100% Bran 5.0\n",
      "100% Natural Bran 8.0\n",
      "All-Bran 7.0\n",
      "All-Bran with Extra Fiber 8.0\n",
      "Almond Delight 14.0\n",
      "Apple Cinnamon Cheerios 10.5\n",
      "Apple Jacks 11.0\n",
      "Basic 4 18.0\n",
      "Bran Chex 15.0\n",
      "Bran Flakes 13.0\n",
      "Cap'n'Crunch 12.0\n",
      "Cheerios 17.0\n",
      "Cinnamon Toast Crunch 13.0\n",
      "Clusters 13.0\n",
      "Cocoa Puffs 12.0\n",
      "Corn Chex 22.0\n",
      "Corn Flakes 21.0\n",
      "Corn Pops 13.0\n",
      "Count Chocula 12.0\n",
      "Cracklin' Oat Bran 10.0\n",
      "Cream of Wheat (Quick) 21.0\n",
      "Crispix 21.0\n",
      "Crispy Wheat & Raisins 11.0\n",
      "Double Chex 18.0\n",
      "Froot Loops 11.0\n",
      "Frosted Flakes 14.0\n",
      "Frosted Mini-Wheats 14.0\n",
      "Fruit & Fibre Dates; Walnuts; and Oats 12.0\n",
      "Fruitful Bran 14.0\n",
      "Fruity Pebbles 13.0\n",
      "Golden Crisp 11.0\n",
      "Golden Grahams 15.0\n",
      "Grape Nuts Flakes 15.0\n",
      "Grape-Nuts 17.0\n",
      "Great Grains Pecan 13.0\n",
      "Honey Graham Ohs 12.0\n",
      "Honey Nut Cheerios 11.5\n",
      "Honey-comb 14.0\n",
      "Just Right Crunchy  Nuggets 17.0\n",
      "Just Right Fruit & Nut 20.0\n",
      "Kix 21.0\n",
      "Life 12.0\n",
      "Lucky Charms 12.0\n",
      "Maypo 16.0\n",
      "Muesli Raisins; Dates; & Almonds 16.0\n",
      "Muesli Raisins; Peaches; & Pecans 16.0\n",
      "Mueslix Crispy Blend 17.0\n",
      "Multi-Grain Cheerios 15.0\n",
      "Nut&Honey Crunch 15.0\n",
      "Nutri-Grain Almond-Raisin 21.0\n",
      "Nutri-grain Wheat 18.0\n",
      "Oatmeal Raisin Crisp 13.5\n",
      "Post Nat. Raisin Bran 11.0\n",
      "Product 19 20.0\n",
      "Puffed Rice 13.0\n",
      "Puffed Wheat 10.0\n",
      "Quaker Oat Squares 14.0\n",
      "Raisin Bran 14.0\n",
      "Raisin Nut Bran 10.5\n",
      "Raisin Squares 15.0\n",
      "Rice Chex 23.0\n",
      "Rice Krispies 22.0\n",
      "Shredded Wheat 16.0\n",
      "Shredded Wheat 'n'Bran 19.0\n",
      "Shredded Wheat spoon size 20.0\n",
      "Smacks 9.0\n",
      "Special K 16.0\n",
      "Strawberry Fruit Wheats 15.0\n",
      "Total Corn Flakes 21.0\n",
      "Total Raisin Bran 15.0\n",
      "Total Whole Grain 16.0\n",
      "Triples 21.0\n",
      "Trix 13.0\n",
      "Wheat Chex 17.0\n",
      "Wheaties 17.0\n",
      "Wheaties Honey Gold 16.0\n"
     ]
    }
   ],
   "source": [
    "for index, row in cereal_df.iterrows():\n",
    "    if row[7]>=5.0:\n",
    "        print(index, row[7])"
   ]
  },
  {
   "cell_type": "code",
   "execution_count": 24,
   "metadata": {},
   "outputs": [],
   "source": [
    "# import requests\n",
    "\n",
    "import requests\n",
    "url = \"https://api.spacexdata.com/v2/launchpads\"\n",
    "\n",
    "space = requests.get(url)\n",
    "space.json()\n",
    "\n",
    "space_json = space.json()"
   ]
  },
  {
   "cell_type": "code",
   "execution_count": 25,
   "metadata": {},
   "outputs": [
    {
     "data": {
      "text/plain": [
       "6"
      ]
     },
     "execution_count": 25,
     "metadata": {},
     "output_type": "execute_result"
    }
   ],
   "source": [
    "len(space_json)"
   ]
  },
  {
   "cell_type": "code",
   "execution_count": 46,
   "metadata": {},
   "outputs": [
    {
     "data": {
      "text/plain": [
       "[{'padid': 5,\n",
       "  'id': 'vafb_slc_3w',\n",
       "  'name': 'VAFB SLC 3W',\n",
       "  'full_name': 'Vandenberg Air Force Base Space Launch Complex 3W',\n",
       "  'status': 'retired',\n",
       "  'location': {'name': 'Vandenberg Air Force Base',\n",
       "   'region': 'California',\n",
       "   'latitude': 34.6440904,\n",
       "   'longitude': -120.5931438},\n",
       "  'vehicles_launched': ['Falcon 1'],\n",
       "  'attempted_launches': 0,\n",
       "  'successful_launches': 0,\n",
       "  'wikipedia': 'https://en.wikipedia.org/wiki/Vandenberg_AFB_Space_Launch_Complex_3',\n",
       "  'details': 'SpaceX original west coast launch pad for Falcon 1. Performed a static fire but was never used for a launch and abandoned due to scheduling conflicts.'},\n",
       " {'padid': 2,\n",
       "  'id': 'ccafs_slc_40',\n",
       "  'name': 'CCAFS SLC 40',\n",
       "  'full_name': 'Cape Canaveral Air Force Station Space Launch Complex 40',\n",
       "  'status': 'active',\n",
       "  'location': {'name': 'Cape Canaveral',\n",
       "   'region': 'Florida',\n",
       "   'latitude': 28.5618571,\n",
       "   'longitude': -80.577366},\n",
       "  'vehicles_launched': ['Falcon 9'],\n",
       "  'attempted_launches': 61,\n",
       "  'successful_launches': 59,\n",
       "  'wikipedia': 'https://en.wikipedia.org/wiki/Cape_Canaveral_Air_Force_Station_Space_Launch_Complex_40',\n",
       "  'details': 'SpaceX primary Falcon 9 launch pad, where all east coast Falcon 9s launched prior to the AMOS-6 anomaly. Initially used to launch Titan rockets for Lockheed Martin. Back online since CRS-13 on 2017-12-15.'},\n",
       " {'padid': 8,\n",
       "  'id': 'stls',\n",
       "  'name': 'STLS',\n",
       "  'full_name': 'SpaceX South Texas Launch Site',\n",
       "  'status': 'under construction',\n",
       "  'location': {'name': 'Boca Chica Village',\n",
       "   'region': 'Texas',\n",
       "   'latitude': 25.9972641,\n",
       "   'longitude': -97.1560845},\n",
       "  'vehicles_launched': ['Falcon 9'],\n",
       "  'attempted_launches': 0,\n",
       "  'successful_launches': 0,\n",
       "  'wikipedia': 'https://en.wikipedia.org/wiki/SpaceX_South_Texas_Launch_Site',\n",
       "  'details': 'SpaceX new launch site currently under construction to help keep up with the Falcon 9 and Heavy manifests. Expected to be completed in late 2018. Initially will be limited to 12 flights per year, and only GTO launches.'},\n",
       " {'padid': 1,\n",
       "  'id': 'kwajalein_atoll',\n",
       "  'name': 'Kwajalein Atoll',\n",
       "  'full_name': 'Kwajalein Atoll Omelek Island',\n",
       "  'status': 'retired',\n",
       "  'location': {'name': 'Omelek Island',\n",
       "   'region': 'Marshall Islands',\n",
       "   'latitude': 9.0477206,\n",
       "   'longitude': 167.7431292},\n",
       "  'vehicles_launched': ['Falcon 1'],\n",
       "  'attempted_launches': 5,\n",
       "  'successful_launches': 2,\n",
       "  'wikipedia': 'https://en.wikipedia.org/wiki/Omelek_Island',\n",
       "  'details': 'SpaceX original launch site, where all of the Falcon 1 launches occured. Abandoned as SpaceX decided against upgrading the pad to support Falcon 9.'},\n",
       " {'padid': 6,\n",
       "  'id': 'vafb_slc_4e',\n",
       "  'name': 'VAFB SLC 4E',\n",
       "  'full_name': 'Vandenberg Air Force Base Space Launch Complex 4E',\n",
       "  'status': 'active',\n",
       "  'location': {'name': 'Vandenberg Air Force Base',\n",
       "   'region': 'California',\n",
       "   'latitude': 34.632093,\n",
       "   'longitude': -120.610829},\n",
       "  'vehicles_launched': ['Falcon 9'],\n",
       "  'attempted_launches': 16,\n",
       "  'successful_launches': 16,\n",
       "  'wikipedia': 'https://en.wikipedia.org/wiki/Vandenberg_AFB_Space_Launch_Complex_4',\n",
       "  'details': 'SpaceX primary west coast launch pad for polar orbits and sun synchronous orbits, primarily used for Iridium. Also intended to be capable of launching Falcon Heavy.'},\n",
       " {'padid': 4,\n",
       "  'id': 'ksc_lc_39a',\n",
       "  'name': 'KSC LC 39A',\n",
       "  'full_name': 'Kennedy Space Center Historic Launch Complex 39A',\n",
       "  'status': 'active',\n",
       "  'location': {'name': 'Cape Canaveral',\n",
       "   'region': 'Florida',\n",
       "   'latitude': 28.6080585,\n",
       "   'longitude': -80.6039558},\n",
       "  'vehicles_launched': ['Falcon 9', 'Falcon Heavy'],\n",
       "  'attempted_launches': 27,\n",
       "  'successful_launches': 26,\n",
       "  'wikipedia': 'https://en.wikipedia.org/wiki/Kennedy_Space_Center_Launch_Complex_39#Launch_Complex_39A',\n",
       "  'details': 'NASA historic launch pad that launched most of the Saturn V and Space Shuttle missions. Initially for Falcon Heavy launches, it is now launching all of SpaceX east coast missions due to the damage from the AMOS-6 anomaly. After SLC-40 repairs are complete, it will be upgraded to support Falcon Heavy, a process which will take about two months. In the future it will launch commercial crew missions and the Interplanetary Transport System.'}]"
      ]
     },
     "execution_count": 46,
     "metadata": {},
     "output_type": "execute_result"
    }
   ],
   "source": [
    "# Using a for loop, what is the order of the \"full name\" \n",
    "# of each launch site in the JSON file when printed to the output cell?\n",
    "\n",
    "\n",
    "\n",
    "space_json"
   ]
  },
  {
   "cell_type": "code",
   "execution_count": 55,
   "metadata": {},
   "outputs": [
    {
     "ename": "TypeError",
     "evalue": "list indices must be integers or slices, not str",
     "output_type": "error",
     "traceback": [
      "\u001b[0;31m---------------------------------------------------------------------------\u001b[0m",
      "\u001b[0;31mTypeError\u001b[0m                                 Traceback (most recent call last)",
      "\u001b[0;32m<ipython-input-55-a93744c4c4e6>\u001b[0m in \u001b[0;36m<module>\u001b[0;34m\u001b[0m\n\u001b[0;32m----> 1\u001b[0;31m \u001b[0mspace_json\u001b[0m\u001b[0;34m[\u001b[0m\u001b[0;34m\"padid\"\u001b[0m\u001b[0;34m]\u001b[0m\u001b[0;34m[\u001b[0m\u001b[0;36m0\u001b[0m\u001b[0;34m]\u001b[0m\u001b[0;34m\u001b[0m\u001b[0;34m\u001b[0m\u001b[0m\n\u001b[0m",
      "\u001b[0;31mTypeError\u001b[0m: list indices must be integers or slices, not str"
     ]
    }
   ],
   "source": [
    "space_json[\"padid\"][0]"
   ]
  },
  {
   "cell_type": "code",
   "execution_count": 59,
   "metadata": {},
   "outputs": [
    {
     "name": "stdout",
     "output_type": "stream",
     "text": [
      "['Aaron', 'Alfred']\n"
     ]
    }
   ],
   "source": [
    "names = [\"Aaron\", \"Bob\", \"Alfred\", \"Chet\", \"Derek\"]\n",
    "\n",
    "new_names = []\n",
    "\n",
    "for x in names:\n",
    "    if x[0] == \"A\":\n",
    "        new_names.append(x)\n",
    "\n",
    "print(new_names)"
   ]
  },
  {
   "cell_type": "code",
   "execution_count": 60,
   "metadata": {},
   "outputs": [
    {
     "ename": "AttributeError",
     "evalue": "'tuple' object has no attribute 'append'",
     "output_type": "error",
     "traceback": [
      "\u001b[0;31m---------------------------------------------------------------------------\u001b[0m",
      "\u001b[0;31mAttributeError\u001b[0m                            Traceback (most recent call last)",
      "\u001b[0;32m<ipython-input-60-72be960c98fd>\u001b[0m in \u001b[0;36m<module>\u001b[0;34m\u001b[0m\n\u001b[1;32m      1\u001b[0m \u001b[0mstudents\u001b[0m \u001b[0;34m=\u001b[0m \u001b[0;34m(\u001b[0m\u001b[0;34m\"Frank\"\u001b[0m\u001b[0;34m,\u001b[0m \u001b[0;34m\"Mary\"\u001b[0m\u001b[0;34m,\u001b[0m \u001b[0;34m\"Jasmine\"\u001b[0m\u001b[0;34m,\u001b[0m \u001b[0;34m\"Ivana\"\u001b[0m\u001b[0;34m,\u001b[0m \u001b[0;34m\"Ahmed\"\u001b[0m\u001b[0;34m)\u001b[0m\u001b[0;34m\u001b[0m\u001b[0;34m\u001b[0m\u001b[0m\n\u001b[0;32m----> 2\u001b[0;31m \u001b[0mstudents\u001b[0m\u001b[0;34m.\u001b[0m\u001b[0mappend\u001b[0m\u001b[0;34m(\u001b[0m\u001b[0;34m\"Serena\"\u001b[0m\u001b[0;34m)\u001b[0m\u001b[0;34m\u001b[0m\u001b[0;34m\u001b[0m\u001b[0m\n\u001b[0m\u001b[1;32m      3\u001b[0m \u001b[0mprint\u001b[0m\u001b[0;34m(\u001b[0m\u001b[0mstudents\u001b[0m\u001b[0;34m)\u001b[0m\u001b[0;34m\u001b[0m\u001b[0;34m\u001b[0m\u001b[0m\n",
      "\u001b[0;31mAttributeError\u001b[0m: 'tuple' object has no attribute 'append'"
     ]
    }
   ],
   "source": [
    "students = (\"Frank\", \"Mary\", \"Jasmine\", \"Ivana\", \"Ahmed\")\n",
    "students.append(\"Serena\")\n",
    "print(students)"
   ]
  },
  {
   "cell_type": "code",
   "execution_count": null,
   "metadata": {},
   "outputs": [],
   "source": []
  }
 ],
 "metadata": {
  "kernelspec": {
   "display_name": "PythonData",
   "language": "python",
   "name": "pythondata"
  },
  "language_info": {
   "codemirror_mode": {
    "name": "ipython",
    "version": 3
   },
   "file_extension": ".py",
   "mimetype": "text/x-python",
   "name": "python",
   "nbconvert_exporter": "python",
   "pygments_lexer": "ipython3",
   "version": "3.7.7"
  }
 },
 "nbformat": 4,
 "nbformat_minor": 4
}
